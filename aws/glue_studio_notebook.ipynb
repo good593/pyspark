{
	"cells": [
		{
			"cell_type": "markdown",
			"metadata": {
				"deletable": false,
				"editable": false,
				"trusted": true
			},
			"source": [
				"\n",
				"# Glue Studio Notebook\n",
				"You are now running a **Glue Studio** notebook; before you can start using your notebook you *must* start an interactive session.\n",
				"\n",
				"## Available Magics\n",
				"|          Magic              |   Type       |                                                                        Description                                                                        |\n",
				"|-----------------------------|--------------|-----------------------------------------------------------------------------------------------------------------------------------------------------------|\n",
				"| %%configure                 |  Dictionary  |  A json-formatted dictionary consisting of all configuration parameters for a session. Each parameter can be specified here or through individual magics. |\n",
				"| %profile                    |  String      |  Specify a profile in your aws configuration to use as the credentials provider.                                                                          |\n",
				"| %iam_role                   |  String      |  Specify an IAM role to execute your session with.                                                                                                        |\n",
				"| %region                     |  String      |  Specify the AWS region in which to initialize a session                                                                                                  |\n",
				"| %session_id                 |  String      |  Returns the session ID for the running session.                                                                                                          |\n",
				"| %connections                |  List        |  Specify a comma separated list of connections to use in the session.                                                                                     |\n",
				"| %additional_python_modules  |  List        |  Comma separated list of pip packages, s3 paths or private pip arguments.                                                                                 |\n",
				"| %extra_py_files             |  List        |  Comma separated list of additional Python files from S3.                                                                                                 |\n",
				"| %extra_jars                 |  List        |  Comma separated list of additional Jars to include in the cluster.                                                                                       |\n",
				"| %number_of_workers          |  Integer     |  The number of workers of a defined worker_type that are allocated when a job runs. worker_type must be set too.                                          |\n",
				"| %worker_type                |  String      |  Standard, G.1X, *or* G.2X. number_of_workers must be set too. Default is G.1X                                                                            |\n",
				"| %glue_version               |  String      |  The version of Glue to be used by this session. Currently, the only valid options are 2.0 and 3.0 (eg: %glue_version 2.0)                                |\n",
				"| %security_configuration     |  String      |  Define a security configuration to be used with this session.                                                                                            |\n",
				"| %sql                        |  String      |  Run SQL code. All lines after the initial %%sql magic will be passed as part of the SQL code.                                                            |\n",
				"| %streaming                  |  String      |  Changes the session type to Glue Streaming.                                                                                                              |\n",
				"| %etl                        |  String      |   Changes the session type to Glue ETL.                                                                                                                   |\n",
				"| %status                     |              |  Returns the status of the current Glue session including its duration, configuration and executing user / role.                                          |\n",
				"| %stop_session               |              |  Stops the current session.                                                                                                                               |\n",
				"| %list_sessions              |              |  Lists all currently running sessions by name and ID.                                                                                                     |"
			]
		},
		{
			"cell_type": "code",
			"execution_count": 5,
			"metadata": {
				"editable": true,
				"trusted": true,
				"vscode": {
					"languageId": "python_glue_session"
				}
			},
			"outputs": [
				{
					"name": "stdout",
					"output_type": "stream",
					"text": [
						"Welcome to the Glue Interactive Sessions Kernel\n",
						"For more information on available magic commands, please type %help in any new cell.\n",
						"\n",
						"Please view our Getting Started page to access the most up-to-date information on the Interactive Sessions kernel: https://docs.aws.amazon.com/glue/latest/dg/interactive-sessions.html\n",
						"It looks like there is a newer version of the kernel available. The latest version is 0.35 and you have 0.30 installed.\n",
						"Please run `pip install --upgrade aws-glue-sessions` to upgrade your kernel\n",
						"Previous region: ap-northeast-2\n",
						"Setting new region to: ap-northeast-2\n",
						"Reauthenticating Glue client with new region: ap-northeast-2\n",
						"IAM role has been set to arn:aws:iam::711159021539:role/ops-aico-nurikids-glue-base-role. Reauthenticating.\n",
						"Authenticating with environment variables and user-defined glue_role_arn: arn:aws:iam::711159021539:role/ops-aico-nurikids-glue-base-role\n",
						"Attempting to use existing AssumeRole session credentials.\n",
						"Authentication done.\n",
						"Region is set to: ap-northeast-2\n",
						"Previous number of workers: 5\n",
						"Setting new number of workers to: 2\n",
						"Previous worker type: G.1X\n",
						"Setting new worker type to: G.1X\n",
						"Setting Glue version to: 3.0\n"
					]
				}
			],
			"source": [
				"%region ap-northeast-2 \n",
				"%number_of_workers 2\n",
				"%worker_type G.1X\n",
				"%glue_version 3.0\n",
				"%extra_py_files s3://poc-glue/script/batch/daliy/layer.zip,s3://poc-glue/script/daliy/libs.zip"
			]
		},
		{
			"cell_type": "code",
			"execution_count": null,
			"metadata": {
				"trusted": true,
				"vscode": {
					"languageId": "python_glue_session"
				}
			},
			"outputs": [
				{
					"name": "stdout",
					"output_type": "stream",
					"text": [
						"Trying to create a Glue session for the kernel.\n",
						"Worker Type: G.1X\n",
						"Number of Workers: 2\n",
						"Session ID: 9035e80e-069d-4e02-80a8-fa2e3a3fa7a1\n",
						"Applying the following default arguments:\n",
						"--glue_kernel_version 0.30\n",
						"--enable-glue-datacatalog true\n",
						"Waiting for session 9035e80e-069d-4e02-80a8-fa2e3a3fa7a1 to get into ready status...\n",
						"Session 9035e80e-069d-4e02-80a8-fa2e3a3fa7a1 has been created\n",
						"\n",
						"\n"
					]
				}
			],
			"source": [
				"import sys\n",
				"from awsglue.transforms import *\n",
				"from awsglue.utils import getResolvedOptions\n",
				"from pyspark.context import SparkContext\n",
				"from awsglue.context import GlueContext\n",
				"from awsglue.job import Job\n",
				"\n",
				"sc = SparkContext.getOrCreate()\n",
				"glueContext = GlueContext(sc)\n",
				"spark = glueContext.spark_session\n",
				"job = Job(glueContext)"
			]
		},
		{
			"attachments": {},
			"cell_type": "markdown",
			"metadata": {},
			"source": [
				"# Read parquet data from s3"
			]
		},
		{
			"cell_type": "code",
			"execution_count": null,
			"metadata": {
				"vscode": {
					"languageId": "plaintext"
				}
			},
			"outputs": [],
			"source": [
				"bucket = 's3://버킷명/'\n",
				"s3_path = 'poc/daily/'\n",
				"\n",
				"read_path = bucket + s3_path \n",
				"\n",
				"# make dataframe\n",
				"df_data = spark.read.parquet(read_path)\n",
				"df_data = df_data.distinct() "
			]
		},
		{
			"attachments": {},
			"cell_type": "markdown",
			"metadata": {},
			"source": [
				"# Read data from dynamodb"
			]
		},
		{
			"cell_type": "code",
			"execution_count": 6,
			"metadata": {
				"trusted": true,
				"vscode": {
					"languageId": "python_glue_session"
				}
			},
			"outputs": [
				{
					"name": "stdout",
					"output_type": "stream",
					"text": [
						"\n"
					]
				}
			],
			"source": [
				"def get_df_from_dynamodb(pGlueContext:GlueContext, pTableNm:str):\n",
				"    dynamic_frame = pGlueContext.create_dynamic_frame.from_options(\n",
				"        connection_type=\"dynamodb\",\n",
				"        connection_options={\n",
				"            \"dynamodb.input.tableName\": pTableNm,\n",
				"            \"dynamodb.throughput.read.percent\": \"0.1\",\n",
				"            \"dynamodb.splits\": \"1\"\n",
				"        }\n",
				"    )\n",
				"    df_dynamodb = dynamic_frame.toDF()\n",
				"\n",
				"    # df_dynamodb.cache()\n",
				"    # df_dynamodb.createOrReplaceTempView(pTableNm)\n",
				"    return df_dynamodb"
			]
		},
		{
			"cell_type": "code",
			"execution_count": 7,
			"metadata": {
				"trusted": true,
				"vscode": {
					"languageId": "python_glue_session"
				}
			},
			"outputs": [
				{
					"name": "stdout",
					"output_type": "stream",
					"text": [
						"\n"
					]
				}
			],
			"source": [
				"df_data = get_df_from_dynamodb(glueContext, '다이나모디비명')"
			]
		},
		{
			"cell_type": "code",
			"execution_count": null,
			"metadata": {
				"vscode": {
					"languageId": "plaintext"
				}
			},
			"outputs": [],
			"source": [
				"from layer.common import * # s3://poc-glue/script/batch/daliy/layer.zip\n",
				"from libs.preprocessing import * # s3://poc-glue/script/daliy/libs.zip"
			]
		},
		{
			"cell_type": "code",
			"execution_count": null,
			"metadata": {
				"vscode": {
					"languageId": "plaintext"
				}
			},
			"outputs": [],
			"source": []
		}
	],
	"metadata": {
		"kernelspec": {
			"display_name": "Glue PySpark",
			"language": "python",
			"name": "glue_pyspark"
		},
		"language_info": {
			"codemirror_mode": {
				"name": "python",
				"version": 3
			},
			"file_extension": ".py",
			"mimetype": "text/x-python",
			"name": "Python_Glue_Session",
			"pygments_lexer": "python3"
		}
	},
	"nbformat": 4,
	"nbformat_minor": 4
}
